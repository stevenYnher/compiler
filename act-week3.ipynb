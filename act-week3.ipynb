{
 "cells": [
  {
   "attachments": {},
   "cell_type": "markdown",
   "metadata": {},
   "source": [
    "# Steven Ynoa 1-16-1865\n",
    "## Actividad Semana 2"
   ]
  },
  {
   "cell_type": "code",
   "execution_count": 12,
   "metadata": {},
   "outputs": [],
   "source": [
    "import re\n",
    "\n",
    "# Para ejecutar el analizador solo debe de tener un entorno Python, si en dado caso no tiene Python.\n",
    "# utilizar Google CoLab, no es necesario instalar solo correr el archivo.\n",
    "\n",
    "\n",
    "# Analizador lexico para calculos matematicos basicos\n",
    "TOKENS = [\n",
    "    ('ID', r'[a-zA-Z_][a-zA-Z0-9_]*'),  #Variable ID\n",
    "    ('EQUAL', r'='),  # Operador de asignación\n",
    "    ('NUM', r'[0-9]+(\\.[0-9]*)?'),  # Numeros enteros y decimales\n",
    "    ('PLUS', r'\\+'), # Signo de mas\n",
    "    ('MINUS', r'\\-'),# Signo de menos\n",
    "    ('MUL', r'\\*'),# Signo de multiplicacion\n",
    "    ('DIV', r'/'),# Signo de division\n",
    "    ('LPAREN', r'\\('),# Abre parentesis\n",
    "    ('RPAREN', r'\\)'),# Cierra parentesis\n",
    "    ('EXP', r'\\^'),  # Exponenciación\n",
    "    ('MOD', r'%'),  # Módulo\n",
    "]\n",
    "\n",
    "def LexerMatematico(code):\n",
    "    # posicion inicial\n",
    "    pos = 0\n",
    "    # mientras recorre el codigo\n",
    "    while pos < len(code):\n",
    "        # revisa si los tokens son validos\n",
    "        for token, regex in TOKENS:\n",
    "            match = re.match(regex, code[pos:])\n",
    "            # Si hay match agrupa el token con su valor, y continua con el ciclo\n",
    "            if match:\n",
    "                yield token, match.group(0)\n",
    "                pos += match.end(0)\n",
    "                break\n",
    "        else:\n",
    "            # si encuentra un valor desconocido, lanza una excepcion\n",
    "            if code[pos] != ' ':\n",
    "                raise Exception(f'Illegal character at position {pos}')\n",
    "            # continua con el ciclo\n",
    "            pos += 1"
   ]
  },
  {
   "cell_type": "code",
   "execution_count": 16,
   "metadata": {},
   "outputs": [
    {
     "name": "stdout",
     "output_type": "stream",
     "text": [
      "[('NUM', '1'), ('PLUS', '+'), ('NUM', '2'), ('MUL', '*'), ('NUM', '3')]\n"
     ]
    }
   ],
   "source": [
    "# Codigo a analizar\n",
    "code = 'var suma = 2 + 3'\n",
    "\n",
    "print(list(LexerMatematico(code)))"
   ]
  },
  {
   "attachments": {},
   "cell_type": "markdown",
   "metadata": {},
   "source": [
    "## Actividad Semana 3"
   ]
  },
  {
   "cell_type": "code",
   "execution_count": 19,
   "metadata": {},
   "outputs": [],
   "source": [
    "class AnalizadorSintactico:\n",
    "    # Inicializacion de la clase\n",
    "    def __init__(self, tokens):\n",
    "        # tokens del lexer\n",
    "        self.tokens = list(tokens)\n",
    "        # posicion 0\n",
    "        self.pos = 0\n",
    "\n",
    "    #parametros:\n",
    "    # tipo: tipo de token \n",
    "    def verificar_pos(self, tipo):\n",
    "        if self.pos >= len(self.tokens):\n",
    "            raise Exception('se terminaron las entradas del token inesperadamente')\n",
    "        # extrae el token\n",
    "        token, _ = self.tokens[self.pos]\n",
    "\n",
    "        if token != tipo:\n",
    "            raise Exception(f'token inesperado: {token}, expected: {tipo}')\n",
    "        \n",
    "        self.pos += 1\n",
    "\n",
    "    def inicializar(self):\n",
    "        self.reglas_gramaticales()\n",
    "\n",
    "    # como ejemplo verifica si los tokens forman una suma solamente\n",
    "    def reglas_gramaticales(self):\n",
    "        self.verificar_pos('NUM')\n",
    "        while self.pos < len(self.tokens):\n",
    "            self.verificar_pos('PLUS')\n",
    "            self.verificar_pos('NUM')\n"
   ]
  },
  {
   "cell_type": "code",
   "execution_count": null,
   "metadata": {},
   "outputs": [],
   "source": [
    "# Prueba, si cambia el signo de + por otro signo, dara un error\n",
    "code = '1 + 2 + 3'\n",
    "tokens = list(LexerMatematico(code))\n",
    "a_sintactico = AnalizadorSintactico(tokens)\n",
    "a_sintactico.inicializar()"
   ]
  }
 ],
 "metadata": {
  "kernelspec": {
   "display_name": "base",
   "language": "python",
   "name": "python3"
  },
  "language_info": {
   "codemirror_mode": {
    "name": "ipython",
    "version": 3
   },
   "file_extension": ".py",
   "mimetype": "text/x-python",
   "name": "python",
   "nbconvert_exporter": "python",
   "pygments_lexer": "ipython3",
   "version": "3.9.6"
  },
  "orig_nbformat": 4
 },
 "nbformat": 4,
 "nbformat_minor": 2
}
