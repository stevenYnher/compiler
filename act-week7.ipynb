{
 "cells": [
  {
   "attachments": {},
   "cell_type": "markdown",
   "metadata": {},
   "source": [
    "# Steven Ynoa 1-16-1865\n",
    "## Actividad Semana 2"
   ]
  },
  {
   "cell_type": "code",
   "execution_count": 1,
   "metadata": {},
   "outputs": [],
   "source": [
    "import re\n",
    "\n",
    "# Para ejecutar el analizador solo debe de tener un entorno Python, si en dado caso no tiene Python.\n",
    "# utilizar Google CoLab, no es necesario instalar solo correr el archivo.\n",
    "\n",
    "\n",
    "# Analizador lexico para calculos matematicos basicos\n",
    "TOKENS = [\n",
    "    ('ID', r'[a-zA-Z_][a-zA-Z0-9_]*'),  #Variable ID\n",
    "    ('EQUAL', r'='),  # Operador de asignación\n",
    "    ('NUM', r'[0-9]+(\\.[0-9]*)?'),  # Numeros enteros y decimales\n",
    "    ('PLUS', r'\\+'), # Signo de mas\n",
    "    ('MINUS', r'\\-'),# Signo de menos\n",
    "    ('MUL', r'\\*'),# Signo de multiplicacion\n",
    "    ('DIV', r'/'),# Signo de division\n",
    "    ('LPAREN', r'\\('),# Abre parentesis\n",
    "    ('RPAREN', r'\\)'),# Cierra parentesis\n",
    "    ('EXP', r'\\^'),  # Exponenciación\n",
    "    ('MOD', r'%'),  # Módulo\n",
    "]\n",
    "\n",
    "def LexerMatematico(code):\n",
    "    # posicion inicial\n",
    "    pos = 0\n",
    "    # mientras recorre el codigo\n",
    "    while pos < len(code):\n",
    "        # revisa si los tokens son validos\n",
    "        for token, regex in TOKENS:\n",
    "            match = re.match(regex, code[pos:])\n",
    "            # Si hay match agrupa el token con su valor, y continua con el ciclo\n",
    "            if match:\n",
    "                yield token, match.group(0)\n",
    "                pos += match.end(0)\n",
    "                break\n",
    "        else:\n",
    "            # si encuentra un valor desconocido, lanza una excepcion\n",
    "            if code[pos] != ' ':\n",
    "                raise Exception(f'Illegal character at position {pos}')\n",
    "            # continua con el ciclo\n",
    "            pos += 1"
   ]
  },
  {
   "cell_type": "code",
   "execution_count": 2,
   "metadata": {},
   "outputs": [
    {
     "name": "stdout",
     "output_type": "stream",
     "text": [
      "[('ID', 'var'), ('ID', 'suma'), ('EQUAL', '='), ('NUM', '2'), ('PLUS', '+'), ('NUM', '3')]\n"
     ]
    }
   ],
   "source": [
    "# Codigo a analizar\n",
    "code = 'var suma = 2 + 3'\n",
    "\n",
    "print(list(LexerMatematico(code)))"
   ]
  },
  {
   "attachments": {},
   "cell_type": "markdown",
   "metadata": {},
   "source": [
    "## Actividad Semana 3"
   ]
  },
  {
   "cell_type": "code",
   "execution_count": 3,
   "metadata": {},
   "outputs": [],
   "source": [
    "class AnalizadorSintactico:\n",
    "    # Inicializacion de la clase\n",
    "    def __init__(self, tokens):\n",
    "        # tokens del lexer\n",
    "        self.tokens = list(tokens)\n",
    "        # posicion 0\n",
    "        self.pos = 0\n",
    "\n",
    "    def inicializar(self):\n",
    "        self.reglas_gramaticales()\n",
    "        \n",
    "    #parametros:\n",
    "    # tipo: tipo de token \n",
    "    def verificar_pos(self, tipo):\n",
    "        if self.pos >= len(self.tokens):\n",
    "            raise Exception('se terminaron las entradas del token inesperadamente')\n",
    "        # extrae el token\n",
    "        token, _ = self.tokens[self.pos]\n",
    "\n",
    "        if token != tipo:\n",
    "            raise Exception(f'token inesperado: {token}, expected: {tipo}')\n",
    "        \n",
    "        self.pos += 1\n",
    "\n",
    "\n",
    "    # como ejemplo verifica si los tokens forman una suma solamente\n",
    "    def reglas_gramaticales(self):\n",
    "        self.verificar_pos('NUM')\n",
    "        while self.pos < len(self.tokens):\n",
    "            self.verificar_pos('PLUS')\n",
    "            self.verificar_pos('NUM')\n"
   ]
  },
  {
   "cell_type": "code",
   "execution_count": 4,
   "metadata": {},
   "outputs": [],
   "source": [
    "# Prueba, si cambia el signo de + por otro signo, dara un error\n",
    "code = '1 + 2 + 7'\n",
    "tokens = list(LexerMatematico(code))\n",
    "a_sintactico = AnalizadorSintactico(tokens)\n",
    "a_sintactico.inicializar()\n"
   ]
  },
  {
   "attachments": {},
   "cell_type": "markdown",
   "metadata": {},
   "source": [
    "# Actividad semana 5"
   ]
  },
  {
   "cell_type": "code",
   "execution_count": 5,
   "metadata": {},
   "outputs": [],
   "source": [
    "class AnalizadorSemantico:\n",
    "    def __init__(self, tokens):\n",
    "        self.tokens = tokens\n",
    "        self.tabla_simbolos = {}\n",
    "\n",
    "    def calcular(self):\n",
    "        var, valor = self.tokens[0]\n",
    "        self.tabla_simbolos[var] = int(self.tokens[2][1]) # Agregamos el primer número a la tabla de simbolos\n",
    "\n",
    "        for i in range(3, len(self.tokens), 2): # Saltamos de dos en dos comenzando desde el cuarto elemento\n",
    "            operador, _ = self.tokens[i]\n",
    "            numero, valor = self.tokens[i+1]\n",
    "\n",
    "            if operador == 'PLUS':\n",
    "                self.tabla_simbolos[var] += int(valor)\n",
    "            else:\n",
    "                raise Exception(f'Operador inesperado: {operador}')\n",
    "        return self.tabla_simbolos\n"
   ]
  },
  {
   "cell_type": "code",
   "execution_count": 6,
   "metadata": {},
   "outputs": [
    {
     "name": "stdout",
     "output_type": "stream",
     "text": [
      "Resultado:  {'NUM': 9}\n"
     ]
    }
   ],
   "source": [
    "analizador_sintactico = AnalizadorSintactico(tokens)\n",
    "analizador_sintactico.inicializar() \n",
    "\n",
    "analizador_semantico = AnalizadorSemantico(tokens)\n",
    "resultado = analizador_semantico.calcular()\n",
    "\n",
    "print(f'Resultado:  {resultado}')"
   ]
  },
  {
   "cell_type": "code",
   "execution_count": 14,
   "metadata": {},
   "outputs": [
    {
     "name": "stdout",
     "output_type": "stream",
     "text": [
      "let a = 5;\n",
      "function primerTraductor() {\n",
      "let b = 1;\n",
      "}\n",
      "\n"
     ]
    }
   ],
   "source": [
    "# Analizador sintactico\n",
    "import ast\n",
    "\n",
    "# las funciones que se encuentran vienen de la libreria ast, solo se reescribireron por eso el parametro de la clase es ast.NodeVisitor\n",
    "class TranslateToJS(ast.NodeVisitor):\n",
    "    # aqui se inicializan las variables\n",
    "    def __init__(self):\n",
    "        self.js_code = \"\"\n",
    "\n",
    "    # aqui se recorre la lista de asignaciones\n",
    "    def visit_Assign(self, node):\n",
    "        if isinstance(node.value, ast.Num):\n",
    "            self.js_code += f\"let {node.targets[0].id} = {node.value.n};\\n\"\n",
    "    \n",
    "    # aqui se recorre las definiciones de las funciones y se sustituyen por \n",
    "    def visit_FunctionDef(self, node):\n",
    "        # aqui recorre los parametros de la funcion\n",
    "        args = ', '.join(arg.arg for arg in node.args.args)\n",
    "        # aqui agrega el nombre de la funcion y sus parametros\n",
    "        self.js_code += f\"function {node.name}({args}) {{\\n\"\n",
    "        self.generic_visit(node)\n",
    "        # cierra funcion\n",
    "        self.js_code += \"}\\n\"\n",
    "\n",
    "    # aqui se recorre las invocaciones o llamadas de las funciones o variables\n",
    "    def visit_Call(self, node):\n",
    "        # si el nodo es print, se sustituye por console.log\n",
    "        if isinstance(node.func, ast.Name) and node.func.id == \"print\":\n",
    "            self.js_code += f\"console.log({node.args[0].id});\\n\"\n",
    "    \n",
    "    # aqui se empaqueta toda la logica\n",
    "    def translate(self, python_code):\n",
    "        python_ast = ast.parse(python_code)\n",
    "        self.visit(python_ast)\n",
    "        return self.js_code\n",
    "\n",
    "translator = TranslateToJS()\n",
    "python_code = \"\"\"\n",
    "a = 5\n",
    "\n",
    "\n",
    "def primerTraductor():\n",
    "    b=1\n",
    "\"\"\"\n",
    "\n",
    "js_code = translator.translate(python_code)\n",
    "print(js_code)\n"
   ]
  }
 ],
 "metadata": {
  "kernelspec": {
   "display_name": "base",
   "language": "python",
   "name": "python3"
  },
  "language_info": {
   "codemirror_mode": {
    "name": "ipython",
    "version": 3
   },
   "file_extension": ".py",
   "mimetype": "text/x-python",
   "name": "python",
   "nbconvert_exporter": "python",
   "pygments_lexer": "ipython3",
   "version": "3.9.6"
  },
  "orig_nbformat": 4
 },
 "nbformat": 4,
 "nbformat_minor": 2
}
