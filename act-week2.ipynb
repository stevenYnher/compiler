{
 "cells": [
  {
   "attachments": {},
   "cell_type": "markdown",
   "metadata": {},
   "source": [
    "# Steven Ynoa 1-16-1865\n",
    "## Actividad Semana 2"
   ]
  },
  {
   "cell_type": "code",
   "execution_count": null,
   "metadata": {},
   "outputs": [],
   "source": [
    "import re\n",
    "\n",
    "# Para ejecutar el analizador solo debe de tener un entorno Python, si en dado caso no tiene Python.\n",
    "# utilizar Google CoLab, no es necesario instalar solo correr el archivo.\n",
    "\n",
    "\n",
    "\n",
    "# Analizador lexico para calculos matematicos basicos\n",
    "TOKENS = [\n",
    "    ('ID', r'[a-zA-Z_][a-zA-Z0-9_]*'),  #Variable ID\n",
    "    ('EQUAL', r'='),  # Operador de asignación\n",
    "    ('NUM', r'[0-9]+(\\.[0-9]*)?'),  # Numeros enteros y decimales\n",
    "    ('PLUS', r'\\+'), # Signo de mas\n",
    "    ('MINUS', r'\\-'),# Signo de menos\n",
    "    ('MUL', r'\\*'),# Signo de multiplicacion\n",
    "    ('DIV', r'/'),# Signo de division\n",
    "    ('LPAREN', r'\\('),# Abre parentesis\n",
    "    ('RPAREN', r'\\)'),# Cierra parentesis\n",
    "    ('EXP', r'\\^'),  # Exponenciación\n",
    "    ('MOD', r'%'),  # Módulo\n",
    "]\n",
    "\n",
    "def LexerMatematico(code):\n",
    "    # posicion inicial\n",
    "    pos = 0\n",
    "    # mientras recorre el codigo\n",
    "    while pos < len(code):\n",
    "        # revisa si los tokens son validos\n",
    "        for token, regex in TOKENS:\n",
    "            match = re.match(regex, code[pos:])\n",
    "            # Si hay match agrupa el token con su valor, y continua con el ciclo\n",
    "            if match:\n",
    "                yield token, match.group(0)\n",
    "                pos += match.end(0)\n",
    "                break\n",
    "        else:\n",
    "            # si encuentra un valor desconocido, lanza una excepcion\n",
    "            if code[pos] != ' ':\n",
    "                raise Exception(f'Illegal character at position {pos}')\n",
    "            # continua con el ciclo\n",
    "            pos += 1"
   ]
  },
  {
   "cell_type": "code",
   "execution_count": null,
   "metadata": {},
   "outputs": [],
   "source": [
    "# Codigo a analizar\n",
    "code = 'var suma = 2 + 3'\n",
    "\n",
    "print(list(LexerMatematico(code)))"
   ]
  }
 ],
 "metadata": {
  "kernelspec": {
   "display_name": "base",
   "language": "python",
   "name": "python3"
  },
  "language_info": {
   "codemirror_mode": {
    "name": "ipython",
    "version": 3
   },
   "file_extension": ".py",
   "mimetype": "text/x-python",
   "name": "python",
   "nbconvert_exporter": "python",
   "pygments_lexer": "ipython3",
   "version": "3.9.16"
  },
  "orig_nbformat": 4
 },
 "nbformat": 4,
 "nbformat_minor": 2
}
